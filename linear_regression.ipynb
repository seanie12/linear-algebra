{
  "nbformat": 4,
  "nbformat_minor": 0,
  "metadata": {
    "colab": {
      "name": "linear_regression.ipynb",
      "provenance": [],
      "collapsed_sections": [],
      "authorship_tag": "ABX9TyOPnwZXRElHc0V9VqxFKQGJ",
      "include_colab_link": true
    },
    "kernelspec": {
      "name": "python3",
      "display_name": "Python 3"
    }
  },
  "cells": [
    {
      "cell_type": "markdown",
      "metadata": {
        "id": "view-in-github",
        "colab_type": "text"
      },
      "source": [
        "<a href=\"https://colab.research.google.com/github/seanie12/linear-algebra/blob/master/linear_regression.ipynb\" target=\"_parent\"><img src=\"https://colab.research.google.com/assets/colab-badge.svg\" alt=\"Open In Colab\"/></a>"
      ]
    },
    {
      "cell_type": "code",
      "metadata": {
        "id": "yB59_rof3jey",
        "colab_type": "code",
        "colab": {}
      },
      "source": [
        "import numpy as np\n",
        "from numpy.linalg import inv\n"
      ],
      "execution_count": 0,
      "outputs": []
    },
    {
      "cell_type": "code",
      "metadata": {
        "id": "nhMT3Nf83zwP",
        "colab_type": "code",
        "colab": {
          "base_uri": "https://localhost:8080/",
          "height": 66
        },
        "outputId": "f6eb65ca-8cc2-4d35-cce5-7052e9ce7815"
      },
      "source": [
        "from IPython.display import Math, HTML\n",
        "display(HTML(\"<script src='https://cdnjs.cloudflare.com/ajax/libs/mathjax/2.7.3/\"\n",
        "               \"latest.js?config=default'></script>\"))\n",
        "\n",
        "Math(r'\\mathcal{L(\\theta) = || \\mathbf{X}\\theta - \\mathbf{y} ||^2}')\n"
      ],
      "execution_count": 2,
      "outputs": [
        {
          "output_type": "display_data",
          "data": {
            "text/html": [
              "<script src='https://cdnjs.cloudflare.com/ajax/libs/mathjax/2.7.3/latest.js?config=default'></script>"
            ],
            "text/plain": [
              "<IPython.core.display.HTML object>"
            ]
          },
          "metadata": {
            "tags": []
          }
        },
        {
          "output_type": "execute_result",
          "data": {
            "text/latex": "$$\\mathcal{L(\\theta) = || \\mathbf{X}\\theta - \\mathbf{y} ||^2}$$",
            "text/plain": [
              "<IPython.core.display.Math object>"
            ]
          },
          "metadata": {
            "tags": []
          },
          "execution_count": 2
        }
      ]
    },
    {
      "cell_type": "code",
      "metadata": {
        "id": "HkXlvHhS7psC",
        "colab_type": "code",
        "colab": {}
      },
      "source": [
        ""
      ],
      "execution_count": 0,
      "outputs": []
    },
    {
      "cell_type": "code",
      "metadata": {
        "id": "lo-Ma5yC5X6L",
        "colab_type": "code",
        "colab": {
          "base_uri": "https://localhost:8080/",
          "height": 65
        },
        "outputId": "c6d0914c-66d2-4f71-fb25-423340b660b0"
      },
      "source": [
        "display(HTML(\"<script src='https://cdnjs.cloudflare.com/ajax/libs/mathjax/2.7.3/\"\n",
        "               \"latest.js?config=default'></script>\"))\n",
        "Math(r\"\\text{argmin}|| \\mathbf{X}\\theta - \\mathbf{y} ||^2 = (\\mathbf{X}^t\\mathbf{X})^{-1}\\mathbf{X}^t\\mathbf{y}\")"
      ],
      "execution_count": 3,
      "outputs": [
        {
          "output_type": "display_data",
          "data": {
            "text/html": [
              "<script src='https://cdnjs.cloudflare.com/ajax/libs/mathjax/2.7.3/latest.js?config=default'></script>"
            ],
            "text/plain": [
              "<IPython.core.display.HTML object>"
            ]
          },
          "metadata": {
            "tags": []
          }
        },
        {
          "output_type": "execute_result",
          "data": {
            "text/latex": "$$\\text{argmin}|| \\mathbf{X}\\theta - \\mathbf{y} ||^2 = (\\mathbf{X}^t\\mathbf{X})^{-1}\\mathbf{X}^t\\mathbf{y}$$",
            "text/plain": [
              "<IPython.core.display.Math object>"
            ]
          },
          "metadata": {
            "tags": []
          },
          "execution_count": 3
        }
      ]
    },
    {
      "cell_type": "code",
      "metadata": {
        "id": "kjZio_rm7qmb",
        "colab_type": "code",
        "colab": {}
      },
      "source": [
        "num_features = 5\n",
        "X = np.random.randn(100, num_features)\n",
        "Y = np.random.randn(100)\n",
        "theta = np.random.randn(num_features)\n"
      ],
      "execution_count": 0,
      "outputs": []
    },
    {
      "cell_type": "code",
      "metadata": {
        "id": "0dVV1XgR7qz0",
        "colab_type": "code",
        "colab": {
          "base_uri": "https://localhost:8080/",
          "height": 34
        },
        "outputId": "5c00aae6-eb48-4197-8228-68da4ef540f7"
      },
      "source": [
        "error = np.sum((Y - np.dot(X, theta))**2, axis=0)\n",
        "error"
      ],
      "execution_count": 5,
      "outputs": [
        {
          "output_type": "execute_result",
          "data": {
            "text/plain": [
              "201.17927854410553"
            ]
          },
          "metadata": {
            "tags": []
          },
          "execution_count": 5
        }
      ]
    },
    {
      "cell_type": "code",
      "metadata": {
        "id": "4GgEn7mx7q-O",
        "colab_type": "code",
        "colab": {
          "base_uri": "https://localhost:8080/",
          "height": 34
        },
        "outputId": "5d9b6344-0e4d-4499-c869-469afb6e73fe"
      },
      "source": [
        "theta_hat = np.dot(inv(X.T @ X) @ X.T, Y)\n",
        "final_loss = np.sum((Y - np.dot(X, theta_hat))**2, axis=0)\n",
        "final_loss "
      ],
      "execution_count": 6,
      "outputs": [
        {
          "output_type": "execute_result",
          "data": {
            "text/plain": [
              "114.10169299395028"
            ]
          },
          "metadata": {
            "tags": []
          },
          "execution_count": 6
        }
      ]
    },
    {
      "cell_type": "markdown",
      "metadata": {
        "id": "ygoVslve8SO2",
        "colab_type": "text"
      },
      "source": [
        "**Gradient Descent**"
      ]
    },
    {
      "cell_type": "code",
      "metadata": {
        "id": "W1pmsO5J8Mlx",
        "colab_type": "code",
        "colab": {
          "base_uri": "https://localhost:8080/",
          "height": 63
        },
        "outputId": "a70d2520-4823-4ab5-d88a-67e5ca407d5e"
      },
      "source": [
        "from IPython.display import Math, HTML\n",
        "display(HTML(\"<script src='https://cdnjs.cloudflare.com/ajax/libs/mathjax/2.7.3/\"\n",
        "               \"latest.js?config=default'></script>\"))\n",
        "\n",
        "Math(r'\\text{grad}\\theta = 2\\mathbf{X}^t(\\mathbf{X}\\theta - \\mathbf{y})')"
      ],
      "execution_count": 7,
      "outputs": [
        {
          "output_type": "display_data",
          "data": {
            "text/html": [
              "<script src='https://cdnjs.cloudflare.com/ajax/libs/mathjax/2.7.3/latest.js?config=default'></script>"
            ],
            "text/plain": [
              "<IPython.core.display.HTML object>"
            ]
          },
          "metadata": {
            "tags": []
          }
        },
        {
          "output_type": "execute_result",
          "data": {
            "text/latex": "$$\\text{grad}\\theta = 2\\mathbf{X}^t(\\mathbf{X}\\theta - \\mathbf{y})$$",
            "text/plain": [
              "<IPython.core.display.Math object>"
            ]
          },
          "metadata": {
            "tags": []
          },
          "execution_count": 7
        }
      ]
    },
    {
      "cell_type": "code",
      "metadata": {
        "id": "rHLAhXYi8Fu5",
        "colab_type": "code",
        "colab": {}
      },
      "source": [
        "\n",
        "class Regression(object):\n",
        "    def __init__(self, num_features, lr=0.001):\n",
        "        self.weight = np.random.randn(num_features)\n",
        "        self.lr = lr\n",
        "\n",
        "\n",
        "    def forward(self, x):\n",
        "        self.logits = np.dot(x, self.weight)\n",
        "        \n",
        "        return self.logits\n",
        "\n",
        "    def backward(self, x, y):\n",
        "        grad = 2 * x.T @ (self.logits - y)\n",
        "        self.weight = self.weight - self.lr * grad\n",
        "        return grad\n"
      ],
      "execution_count": 0,
      "outputs": []
    },
    {
      "cell_type": "code",
      "metadata": {
        "id": "3ONudBNb8F4H",
        "colab_type": "code",
        "colab": {
          "base_uri": "https://localhost:8080/",
          "height": 34
        },
        "outputId": "05345e30-8230-43f5-86b5-7e4873b5a094"
      },
      "source": [
        "net = Regression(num_features, lr=0.001)\n",
        "\n",
        "for _ in range(100):\n",
        "    logits = net.forward(X)\n",
        "    loss = np.sum((logits - Y) ** 2, 0)\n",
        "    grad = net.backward(X, Y)\n",
        "\n",
        "logits = net.forward(X)\n",
        "sgd_loss = np.sum((logits - Y)**2, axis=0)\n",
        "print(sgd_loss)"
      ],
      "execution_count": 9,
      "outputs": [
        {
          "output_type": "stream",
          "text": [
            "114.10169299395031\n"
          ],
          "name": "stdout"
        }
      ]
    },
    {
      "cell_type": "code",
      "metadata": {
        "id": "QljCgg0W8GAY",
        "colab_type": "code",
        "colab": {
          "base_uri": "https://localhost:8080/",
          "height": 34
        },
        "outputId": "a879e721-bf67-4d98-cb7c-49f1602f7214"
      },
      "source": [
        "abs(final_loss - sgd_loss)"
      ],
      "execution_count": 10,
      "outputs": [
        {
          "output_type": "execute_result",
          "data": {
            "text/plain": [
              "2.842170943040401e-14"
            ]
          },
          "metadata": {
            "tags": []
          },
          "execution_count": 10
        }
      ]
    },
    {
      "cell_type": "markdown",
      "metadata": {
        "id": "7JiYOz4P3k8Y",
        "colab_type": "text"
      },
      "source": [
        ""
      ]
    }
  ]
}