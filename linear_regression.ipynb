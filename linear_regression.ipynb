{
  "nbformat": 4,
  "nbformat_minor": 0,
  "metadata": {
    "colab": {
      "name": "linear_regression.ipynb",
      "provenance": [],
      "collapsed_sections": []
    },
    "kernelspec": {
      "name": "python3",
      "display_name": "Python 3"
    }
  },
  "cells": [
    {
      "cell_type": "code",
      "metadata": {
        "id": "yB59_rof3jey",
        "colab_type": "code",
        "colab": {}
      },
      "source": [
        "import numpy as np\n",
        "from numpy.linalg import inv\n"
      ],
      "execution_count": 0,
      "outputs": []
    },
    {
      "cell_type": "code",
      "metadata": {
        "id": "nhMT3Nf83zwP",
        "colab_type": "code",
        "colab": {
          "base_uri": "https://localhost:8080/",
          "height": 66
        },
        "outputId": "11e355a0-d361-44d2-b9a4-a15072fe3a9a"
      },
      "source": [
        "from IPython.display import Math, HTML\n",
        "display(HTML(\"<script src='https://cdnjs.cloudflare.com/ajax/libs/mathjax/2.7.3/\"\n",
        "               \"latest.js?config=default'></script>\"))\n",
        "\n",
        "Math(r'\\mathcal{L(\\theta) = || \\mathbf{X}\\theta - \\mathbf{y} ||^2}')\n"
      ],
      "execution_count": 2,
      "outputs": [
        {
          "output_type": "display_data",
          "data": {
            "text/html": [
              "<script src='https://cdnjs.cloudflare.com/ajax/libs/mathjax/2.7.3/latest.js?config=default'></script>"
            ],
            "text/plain": [
              "<IPython.core.display.HTML object>"
            ]
          },
          "metadata": {
            "tags": []
          }
        },
        {
          "output_type": "execute_result",
          "data": {
            "text/latex": "$$\\mathcal{L(\\theta) = || \\mathbf{X}\\theta - \\mathbf{y} ||^2}$$",
            "text/plain": [
              "<IPython.core.display.Math object>"
            ]
          },
          "metadata": {
            "tags": []
          },
          "execution_count": 2
        }
      ]
    },
    {
      "cell_type": "code",
      "metadata": {
        "id": "HkXlvHhS7psC",
        "colab_type": "code",
        "colab": {}
      },
      "source": [
        ""
      ],
      "execution_count": 0,
      "outputs": []
    },
    {
      "cell_type": "code",
      "metadata": {
        "id": "lo-Ma5yC5X6L",
        "colab_type": "code",
        "colab": {
          "base_uri": "https://localhost:8080/",
          "height": 65
        },
        "outputId": "651f65de-4e1a-4a34-e70a-e18a2ab290a8"
      },
      "source": [
        "display(HTML(\"<script src='https://cdnjs.cloudflare.com/ajax/libs/mathjax/2.7.3/\"\n",
        "               \"latest.js?config=default'></script>\"))\n",
        "Math(r\"\\text{argmin}|| \\mathbf{X}\\theta - \\mathbf{y} ||^2 = (\\mathbf{X}^t\\mathbf{X})^{-1}\\mathbf{X}^t\\mathbf{y}\")"
      ],
      "execution_count": 3,
      "outputs": [
        {
          "output_type": "display_data",
          "data": {
            "text/html": [
              "<script src='https://cdnjs.cloudflare.com/ajax/libs/mathjax/2.7.3/latest.js?config=default'></script>"
            ],
            "text/plain": [
              "<IPython.core.display.HTML object>"
            ]
          },
          "metadata": {
            "tags": []
          }
        },
        {
          "output_type": "execute_result",
          "data": {
            "text/latex": "$$\\text{argmin}|| \\mathbf{X}\\theta - \\mathbf{y} ||^2 = (\\mathbf{X}^t\\mathbf{X})^{-1}\\mathbf{X}^t\\mathbf{y}$$",
            "text/plain": [
              "<IPython.core.display.Math object>"
            ]
          },
          "metadata": {
            "tags": []
          },
          "execution_count": 3
        }
      ]
    },
    {
      "cell_type": "code",
      "metadata": {
        "id": "kjZio_rm7qmb",
        "colab_type": "code",
        "colab": {}
      },
      "source": [
        "num_features = 5\n",
        "X = np.random.randn(100, num_features)\n",
        "Y = np.random.randn(100)\n",
        "theta = np.random.randn(num_features)\n"
      ],
      "execution_count": 0,
      "outputs": []
    },
    {
      "cell_type": "code",
      "metadata": {
        "id": "0dVV1XgR7qz0",
        "colab_type": "code",
        "colab": {
          "base_uri": "https://localhost:8080/",
          "height": 34
        },
        "outputId": "eacf38de-64ea-4154-f271-a169cdfb1596"
      },
      "source": [
        "error = np.sum((Y - np.dot(X, theta))**2, axis=0)\n",
        "error"
      ],
      "execution_count": 5,
      "outputs": [
        {
          "output_type": "execute_result",
          "data": {
            "text/plain": [
              "710.9866265185952"
            ]
          },
          "metadata": {
            "tags": []
          },
          "execution_count": 5
        }
      ]
    },
    {
      "cell_type": "code",
      "metadata": {
        "id": "4GgEn7mx7q-O",
        "colab_type": "code",
        "colab": {
          "base_uri": "https://localhost:8080/",
          "height": 34
        },
        "outputId": "bd6282ff-6472-4c79-dea2-4d214de01cbe"
      },
      "source": [
        "theta_hat = np.dot(inv(X.T @ X) @ X.T, Y)\n",
        "final_loss = np.sum((Y - np.dot(X, theta_hat))**2, axis=0)\n",
        "final_loss "
      ],
      "execution_count": 6,
      "outputs": [
        {
          "output_type": "execute_result",
          "data": {
            "text/plain": [
              "113.29166809859434"
            ]
          },
          "metadata": {
            "tags": []
          },
          "execution_count": 6
        }
      ]
    },
    {
      "cell_type": "markdown",
      "metadata": {
        "id": "ygoVslve8SO2",
        "colab_type": "text"
      },
      "source": [
        "**Gradient Descent**"
      ]
    },
    {
      "cell_type": "code",
      "metadata": {
        "id": "W1pmsO5J8Mlx",
        "colab_type": "code",
        "colab": {
          "base_uri": "https://localhost:8080/",
          "height": 63
        },
        "outputId": "306e8668-9792-480f-9cb6-02f13ac54a9a"
      },
      "source": [
        "from IPython.display import Math, HTML\n",
        "display(HTML(\"<script src='https://cdnjs.cloudflare.com/ajax/libs/mathjax/2.7.3/\"\n",
        "               \"latest.js?config=default'></script>\"))\n",
        "\n",
        "Math(r'\\text{grad}\\theta = 2\\mathbf{X}^t(\\mathbf{X}\\theta - \\mathbf{y})')"
      ],
      "execution_count": 7,
      "outputs": [
        {
          "output_type": "display_data",
          "data": {
            "text/html": [
              "<script src='https://cdnjs.cloudflare.com/ajax/libs/mathjax/2.7.3/latest.js?config=default'></script>"
            ],
            "text/plain": [
              "<IPython.core.display.HTML object>"
            ]
          },
          "metadata": {
            "tags": []
          }
        },
        {
          "output_type": "execute_result",
          "data": {
            "text/latex": "$$\\text{grad}\\theta = 2\\mathbf{X}^t(\\mathbf{X}\\theta - \\mathbf{y})$$",
            "text/plain": [
              "<IPython.core.display.Math object>"
            ]
          },
          "metadata": {
            "tags": []
          },
          "execution_count": 7
        }
      ]
    },
    {
      "cell_type": "code",
      "metadata": {
        "id": "rHLAhXYi8Fu5",
        "colab_type": "code",
        "colab": {}
      },
      "source": [
        "\n",
        "class Regression(object):\n",
        "    def __init__(self, num_features, lr=0.001):\n",
        "        self.weight = np.random.randn(num_features)\n",
        "        self.lr = lr\n",
        "\n",
        "\n",
        "    def forward(self, x):\n",
        "        self.logits = np.dot(x, self.weight)\n",
        "        \n",
        "        return self.logits\n",
        "\n",
        "    def backward(self, x, y):\n",
        "        grad = 2 * x.T @ (self.logits - y)\n",
        "        self.weight = self.weight - self.lr * grad\n",
        "        return grad\n"
      ],
      "execution_count": 0,
      "outputs": []
    },
    {
      "cell_type": "code",
      "metadata": {
        "id": "3ONudBNb8F4H",
        "colab_type": "code",
        "colab": {
          "base_uri": "https://localhost:8080/",
          "height": 34
        },
        "outputId": "2555b541-f149-4e90-e653-942faa53e61b"
      },
      "source": [
        "net = Regression(num_features, lr=0.001)\n",
        "\n",
        "for _ in range(100):\n",
        "    logits = net.forward(X)\n",
        "    loss = np.sum((logits - Y) ** 2, 0)\n",
        "    grad = net.backward(X, Y)\n",
        "\n",
        "logits = net.forward(X)\n",
        "sgd_loss = np.sum((logits - Y)**2, axis=0)\n",
        "print(sgd_loss)"
      ],
      "execution_count": 9,
      "outputs": [
        {
          "output_type": "stream",
          "text": [
            "113.29166812740516\n"
          ],
          "name": "stdout"
        }
      ]
    },
    {
      "cell_type": "code",
      "metadata": {
        "id": "QljCgg0W8GAY",
        "colab_type": "code",
        "colab": {
          "base_uri": "https://localhost:8080/",
          "height": 34
        },
        "outputId": "ea22449a-ce11-4c5b-8bd8-4745faa596d4"
      },
      "source": [
        "abs(final_loss - sgd_loss)"
      ],
      "execution_count": 10,
      "outputs": [
        {
          "output_type": "execute_result",
          "data": {
            "text/plain": [
              "2.8810816843360953e-08"
            ]
          },
          "metadata": {
            "tags": []
          },
          "execution_count": 10
        }
      ]
    },
    {
      "cell_type": "markdown",
      "metadata": {
        "id": "7JiYOz4P3k8Y",
        "colab_type": "text"
      },
      "source": [
        ""
      ]
    }
  ]
}